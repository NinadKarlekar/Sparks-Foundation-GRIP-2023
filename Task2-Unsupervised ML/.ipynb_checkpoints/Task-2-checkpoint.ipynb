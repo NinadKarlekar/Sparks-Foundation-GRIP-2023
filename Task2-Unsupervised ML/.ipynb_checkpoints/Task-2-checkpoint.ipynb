{
 "cells": [
  {
   "cell_type": "markdown",
   "id": "694d4a02",
   "metadata": {},
   "source": [
    "# Name :- Ninad Karlekar\n",
    "## Task-2: From the given ‘Iris’ dataset, predict the optimum number of clusters and represent it visually."
   ]
  }
 ],
 "metadata": {
  "kernelspec": {
   "display_name": "Python 3 (ipykernel)",
   "language": "python",
   "name": "python3"
  },
  "language_info": {
   "codemirror_mode": {
    "name": "ipython",
    "version": 3
   },
   "file_extension": ".py",
   "mimetype": "text/x-python",
   "name": "python",
   "nbconvert_exporter": "python",
   "pygments_lexer": "ipython3",
   "version": "3.9.7"
  }
 },
 "nbformat": 4,
 "nbformat_minor": 5
}
